{
 "cells": [
  {
   "cell_type": "code",
   "execution_count": null,
   "metadata": {},
   "outputs": [],
   "source": [
    "class eligibility :\n",
    "    def is_elegible(person): \n",
    "\n",
    "        if (person[\"Age\"] < 18):\n",
    "            print(\"Sorry, you can't have credit, you are too young\")\n",
    "            return 100 \n",
    "        if (person[\"Credit history\"] == \"More than 2\"): \n",
    "            print(\"Sorry, you can't have credit, you have already two\")\n",
    "            return 100\n",
    "\n",
    "        privacy_score = check_privacy(person)\n",
    "        personal_condition_score = check_personal_conditon(person)\n",
    "        income_score = check_income(person)\n",
    "\n",
    "        total = privacy_score + personal_condition_score + income_score\n",
    "\n",
    "        if (total >= 100): \n",
    "            print(\"Sorry, you can't have credit, you have too many wrong criterias\")\n",
    "            return 100\n",
    "        else: \n",
    "            print(\"Your credit score is\", total)\n",
    "            return total"
   ]
  }
 ],
 "metadata": {
  "kernelspec": {
   "display_name": "Python 3",
   "language": "python",
   "name": "python3"
  },
  "language_info": {
   "codemirror_mode": {
    "name": "ipython",
    "version": 3
   },
   "file_extension": ".py",
   "mimetype": "text/x-python",
   "name": "python",
   "nbconvert_exporter": "python",
   "pygments_lexer": "ipython3",
   "version": "3.8.5"
  }
 },
 "nbformat": 4,
 "nbformat_minor": 4
}
