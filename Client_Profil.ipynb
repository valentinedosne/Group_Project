{
 "cells": [
  {
   "cell_type": "code",
   "execution_count": 1,
   "metadata": {},
   "outputs": [],
   "source": [
    "class profil :\n",
    "    def create_profil(name, marital_situation, children, age, criminal_record, education, homeowner, employment, income, \n",
    "                     co_applicant_income, credit_history): \n",
    "        name = {\n",
    "            \"Marital situation\" : marital_situation,\n",
    "            \"Children\" : children,\n",
    "            \"Age\" : age,\n",
    "            \"Criminal record\" : criminal_record,\n",
    "            \"Education\" : education,\n",
    "            \"Homeowner\" : homeowner,\n",
    "            \"Employment\" : employment,\n",
    "            \"Income\" : income,\n",
    "            \"Co-Applicant Income\" : co_applicant_income,\n",
    "            \"Credit history\" : credit_history\n",
    "        }\n",
    "        return name"
   ]
  }
 ],
 "metadata": {
  "kernelspec": {
   "display_name": "Python 3",
   "language": "python",
   "name": "python3"
  },
  "language_info": {
   "codemirror_mode": {
    "name": "ipython",
    "version": 3
   },
   "file_extension": ".py",
   "mimetype": "text/x-python",
   "name": "python",
   "nbconvert_exporter": "python",
   "pygments_lexer": "ipython3",
   "version": "3.8.5"
  }
 },
 "nbformat": 4,
 "nbformat_minor": 4
}
